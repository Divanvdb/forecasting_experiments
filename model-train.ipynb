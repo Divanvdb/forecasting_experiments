{
 "cells": [
  {
   "cell_type": "code",
   "execution_count": 1,
   "metadata": {},
   "outputs": [],
   "source": [
    "from fore_utils import *"
   ]
  },
  {
   "cell_type": "code",
   "execution_count": 78,
   "metadata": {},
   "outputs": [],
   "source": [
    "import torch\n",
    "import torch.nn as nn\n",
    "    \n",
    "class TransformerModel(nn.Module):\n",
    "    def __init__(self, window_size: int = 24, variables: int = 6, d_model=64, nhead=4, num_layers=2, output_dim: int = 12):\n",
    "        super(TransformerModel, self).__init__()\n",
    "\n",
    "        input_dim = window_size * variables\n",
    "\n",
    "        self.encoder = nn.Linear(input_dim, d_model)\n",
    "\n",
    "        encoder_layers = nn.TransformerEncoderLayer(d_model, nhead, batch_first=True)\n",
    "\n",
    "        self.transformer_encoder = nn.TransformerEncoder(encoder_layers, num_layers)\n",
    "\n",
    "        self.decoder = nn.Linear(d_model, output_dim)\n",
    "\n",
    "    def forward(self, x):\n",
    "        x = x.view(x.size(0), -1)\n",
    "\n",
    "        x = self.encoder(x)\n",
    "\n",
    "        x = x.unsqueeze(1) \n",
    "        \n",
    "        x = self.transformer_encoder(x)\n",
    "\n",
    "        x = self.decoder(x.squeeze(1))\n",
    "        return x\n"
   ]
  },
  {
   "cell_type": "code",
   "execution_count": 79,
   "metadata": {},
   "outputs": [
    {
     "data": {
      "text/html": [
       "Finishing last run (ID:nf7hxn5b) before initializing another..."
      ],
      "text/plain": [
       "<IPython.core.display.HTML object>"
      ]
     },
     "metadata": {},
     "output_type": "display_data"
    },
    {
     "data": {
      "application/vnd.jupyter.widget-view+json": {
       "model_id": "cb9552ac69a14b06a0dc488272a39077",
       "version_major": 2,
       "version_minor": 0
      },
      "text/plain": [
       "VBox(children=(Label(value='0.001 MB of 0.001 MB uploaded\\r'), FloatProgress(value=1.0, max=1.0)))"
      ]
     },
     "metadata": {},
     "output_type": "display_data"
    },
    {
     "data": {
      "text/html": [
       " View run <strong style=\"color:#cdcd00\">transfromer</strong> at: <a href='https://wandb.ai/divanvanderbank/time_series_forecasting/runs/nf7hxn5b' target=\"_blank\">https://wandb.ai/divanvanderbank/time_series_forecasting/runs/nf7hxn5b</a><br/>Synced 5 W&B file(s), 0 media file(s), 0 artifact file(s) and 1 other file(s)"
      ],
      "text/plain": [
       "<IPython.core.display.HTML object>"
      ]
     },
     "metadata": {},
     "output_type": "display_data"
    },
    {
     "data": {
      "text/html": [
       "Find logs at: <code>.\\wandb\\run-20241029_143144-nf7hxn5b\\logs</code>"
      ],
      "text/plain": [
       "<IPython.core.display.HTML object>"
      ]
     },
     "metadata": {},
     "output_type": "display_data"
    },
    {
     "data": {
      "text/html": [
       "Successfully finished last run (ID:nf7hxn5b). Initializing new run:<br/>"
      ],
      "text/plain": [
       "<IPython.core.display.HTML object>"
      ]
     },
     "metadata": {},
     "output_type": "display_data"
    },
    {
     "data": {
      "application/vnd.jupyter.widget-view+json": {
       "model_id": "a4d98602134e4e428f3fc25b2ed20382",
       "version_major": 2,
       "version_minor": 0
      },
      "text/plain": [
       "VBox(children=(Label(value='Waiting for wandb.init()...\\r'), FloatProgress(value=0.011277777779226502, max=1.0…"
      ]
     },
     "metadata": {},
     "output_type": "display_data"
    },
    {
     "data": {
      "text/html": [
       "wandb version 0.18.5 is available!  To upgrade, please run:\n",
       " $ pip install wandb --upgrade"
      ],
      "text/plain": [
       "<IPython.core.display.HTML object>"
      ]
     },
     "metadata": {},
     "output_type": "display_data"
    },
    {
     "data": {
      "text/html": [
       "Tracking run with wandb version 0.16.4"
      ],
      "text/plain": [
       "<IPython.core.display.HTML object>"
      ]
     },
     "metadata": {},
     "output_type": "display_data"
    },
    {
     "data": {
      "text/html": [
       "Run data is saved locally in <code>c:\\Users\\23603526\\Documents\\FORRS\\forecasting\\wandb\\run-20241029_143258-w0k6plc2</code>"
      ],
      "text/plain": [
       "<IPython.core.display.HTML object>"
      ]
     },
     "metadata": {},
     "output_type": "display_data"
    },
    {
     "data": {
      "text/html": [
       "Syncing run <strong><a href='https://wandb.ai/divanvanderbank/time_series_forecasting/runs/w0k6plc2' target=\"_blank\">transfromer</a></strong> to <a href='https://wandb.ai/divanvanderbank/time_series_forecasting' target=\"_blank\">Weights & Biases</a> (<a href='https://wandb.me/run' target=\"_blank\">docs</a>)<br/>"
      ],
      "text/plain": [
       "<IPython.core.display.HTML object>"
      ]
     },
     "metadata": {},
     "output_type": "display_data"
    },
    {
     "data": {
      "text/html": [
       " View project at <a href='https://wandb.ai/divanvanderbank/time_series_forecasting' target=\"_blank\">https://wandb.ai/divanvanderbank/time_series_forecasting</a>"
      ],
      "text/plain": [
       "<IPython.core.display.HTML object>"
      ]
     },
     "metadata": {},
     "output_type": "display_data"
    },
    {
     "data": {
      "text/html": [
       " View run at <a href='https://wandb.ai/divanvanderbank/time_series_forecasting/runs/w0k6plc2' target=\"_blank\">https://wandb.ai/divanvanderbank/time_series_forecasting/runs/w0k6plc2</a>"
      ],
      "text/plain": [
       "<IPython.core.display.HTML object>"
      ]
     },
     "metadata": {},
     "output_type": "display_data"
    },
    {
     "name": "stdout",
     "output_type": "stream",
     "text": [
      "Details for train set:\n",
      "Data from ['2018', '2019', '2020', '2021'] loaded\n",
      "Features shape: torch.Size([35064, 6])\n",
      "Targets shape: torch.Size([35064])\n",
      "Longitudes: 18.3061580657959\n",
      "Latitudes: -31.636999130249023\n",
      "Details for val set:\n",
      "Data from ['2022'] loaded\n",
      "Features shape: torch.Size([8760, 6])\n",
      "Targets shape: torch.Size([8760])\n",
      "Longitudes: 18.3061580657959\n",
      "Latitudes: -31.636999130249023\n",
      "Epoch 0, Batch 0, Loss: 2.7051\n",
      "Epoch 0, Batch 100, Loss: 0.3477\n",
      "Epoch 0, Batch 200, Loss: 0.3552\n",
      "Epoch 0, Batch 300, Loss: 0.3410\n",
      "Epoch 0, Batch 400, Loss: 0.3290\n",
      "Epoch 0, Batch 500, Loss: 0.4750\n",
      "Epoch 0, Batch 600, Loss: 0.2885\n",
      "Epoch 0, Batch 700, Loss: 0.4694\n",
      "Epoch 0, Batch 800, Loss: 0.4405\n",
      "Epoch 0, Batch 900, Loss: 0.3075\n",
      "Epoch 0, Batch 1000, Loss: 0.1955\n",
      "Epoch 0 Completed, Average Training Loss: 0.3745\n",
      "Validation Loss after Epoch 0: 0.3230\n",
      "Learning rate after Epoch 0: 0.000100\n",
      "New best model saved with validation loss: 0.3230\n",
      "Epoch 1, Batch 0, Loss: 0.3608\n",
      "Epoch 1, Batch 100, Loss: 0.2750\n",
      "Epoch 1, Batch 200, Loss: 0.1733\n",
      "Epoch 1, Batch 300, Loss: 0.3336\n",
      "Epoch 1, Batch 400, Loss: 0.3497\n",
      "Epoch 1, Batch 500, Loss: 0.3652\n",
      "Epoch 1, Batch 600, Loss: 0.2219\n",
      "Epoch 1, Batch 700, Loss: 0.2426\n",
      "Epoch 1, Batch 800, Loss: 0.2824\n",
      "Epoch 1, Batch 900, Loss: 0.2413\n",
      "Epoch 1, Batch 1000, Loss: 0.2123\n",
      "Epoch 1 Completed, Average Training Loss: 0.2943\n",
      "Validation Loss after Epoch 1: 0.3073\n",
      "Learning rate after Epoch 1: 0.000100\n",
      "New best model saved with validation loss: 0.3073\n",
      "Epoch 2, Batch 0, Loss: 0.2282\n",
      "Epoch 2, Batch 100, Loss: 0.2609\n",
      "Epoch 2, Batch 200, Loss: 0.2508\n",
      "Epoch 2, Batch 300, Loss: 0.2750\n",
      "Epoch 2, Batch 400, Loss: 0.2474\n",
      "Epoch 2, Batch 500, Loss: 0.2483\n",
      "Epoch 2, Batch 600, Loss: 0.2519\n",
      "Epoch 2, Batch 700, Loss: 0.3476\n",
      "Epoch 2, Batch 800, Loss: 0.2612\n",
      "Epoch 2, Batch 900, Loss: 0.2113\n",
      "Epoch 2, Batch 1000, Loss: 0.2450\n",
      "Epoch 2 Completed, Average Training Loss: 0.2763\n",
      "Validation Loss after Epoch 2: 0.3033\n",
      "Learning rate after Epoch 2: 0.000100\n",
      "New best model saved with validation loss: 0.3033\n",
      "Epoch 3, Batch 0, Loss: 0.2221\n",
      "Epoch 3, Batch 100, Loss: 0.2403\n",
      "Epoch 3, Batch 200, Loss: 0.4194\n",
      "Epoch 3, Batch 300, Loss: 0.2275\n",
      "Epoch 3, Batch 400, Loss: 0.2477\n",
      "Epoch 3, Batch 500, Loss: 0.3384\n",
      "Epoch 3, Batch 600, Loss: 0.2705\n",
      "Epoch 3, Batch 700, Loss: 0.2782\n",
      "Epoch 3, Batch 800, Loss: 0.3066\n",
      "Epoch 3, Batch 900, Loss: 0.1722\n",
      "Epoch 3, Batch 1000, Loss: 0.2036\n",
      "Epoch 3 Completed, Average Training Loss: 0.2624\n",
      "Validation Loss after Epoch 3: 0.3036\n",
      "Learning rate after Epoch 3: 0.000100\n",
      "No improvement. Early stopping patience counter: 1/5\n",
      "Epoch 4, Batch 0, Loss: 0.2887\n",
      "Epoch 4, Batch 100, Loss: 0.2894\n",
      "Epoch 4, Batch 200, Loss: 0.1904\n",
      "Epoch 4, Batch 300, Loss: 0.2804\n",
      "Epoch 4, Batch 400, Loss: 0.2279\n",
      "Epoch 4, Batch 500, Loss: 0.2581\n",
      "Epoch 4, Batch 600, Loss: 0.2111\n",
      "Epoch 4, Batch 700, Loss: 0.2541\n",
      "Epoch 4, Batch 800, Loss: 0.2066\n",
      "Epoch 4, Batch 900, Loss: 0.2356\n",
      "Epoch 4, Batch 1000, Loss: 0.2209\n",
      "Epoch 4 Completed, Average Training Loss: 0.2486\n",
      "Validation Loss after Epoch 4: 0.3056\n",
      "Learning rate after Epoch 4: 0.000100\n",
      "No improvement. Early stopping patience counter: 2/5\n",
      "Epoch 5, Batch 0, Loss: 0.2819\n",
      "Epoch 5, Batch 100, Loss: 0.1637\n",
      "Epoch 5, Batch 200, Loss: 0.1993\n"
     ]
    },
    {
     "ename": "KeyboardInterrupt",
     "evalue": "",
     "output_type": "error",
     "traceback": [
      "\u001b[1;31m---------------------------------------------------------------------------\u001b[0m",
      "\u001b[1;31mKeyboardInterrupt\u001b[0m                         Traceback (most recent call last)",
      "Cell \u001b[1;32mIn[79], line 38\u001b[0m\n\u001b[0;32m     34\u001b[0m val_set \u001b[38;5;241m=\u001b[39m WeatherData(window_size\u001b[38;5;241m=\u001b[39mwindow_size, step_size\u001b[38;5;241m=\u001b[39msteps, \u001b[38;5;28mset\u001b[39m\u001b[38;5;241m=\u001b[39m\u001b[38;5;124m'\u001b[39m\u001b[38;5;124mval\u001b[39m\u001b[38;5;124m'\u001b[39m, spaces\u001b[38;5;241m=\u001b[39mspaces, verbose\u001b[38;5;241m=\u001b[39m\u001b[38;5;28;01mTrue\u001b[39;00m)\n\u001b[0;32m     35\u001b[0m val_loader \u001b[38;5;241m=\u001b[39m DataLoader(val_set,\n\u001b[0;32m     36\u001b[0m                            batch_size\u001b[38;5;241m=\u001b[39mbatch_size, shuffle\u001b[38;5;241m=\u001b[39m\u001b[38;5;28;01mFalse\u001b[39;00m)\n\u001b[1;32m---> 38\u001b[0m \u001b[43mtrain_model\u001b[49m\u001b[43m(\u001b[49m\u001b[43mmodel\u001b[49m\u001b[43m,\u001b[49m\u001b[43m \u001b[49m\u001b[43mtrain_loader\u001b[49m\u001b[43m,\u001b[49m\u001b[43m \u001b[49m\u001b[43mval_loader\u001b[49m\u001b[43m,\u001b[49m\u001b[43m \u001b[49m\u001b[43mconfig\u001b[49m\u001b[43m,\u001b[49m\u001b[43m \u001b[49m\u001b[43mn_epochs\u001b[49m\u001b[38;5;241;43m=\u001b[39;49m\u001b[43mn_epochs\u001b[49m\u001b[43m,\u001b[49m\u001b[43m \u001b[49m\u001b[43mwarmup_epochs\u001b[49m\u001b[38;5;241;43m=\u001b[39;49m\u001b[43mwarmup_epochs\u001b[49m\u001b[43m,\u001b[49m\n\u001b[0;32m     39\u001b[0m \u001b[43m            \u001b[49m\u001b[43minitial_lr\u001b[49m\u001b[38;5;241;43m=\u001b[39;49m\u001b[43minitial_lr\u001b[49m\u001b[43m,\u001b[49m\u001b[43m \u001b[49m\u001b[43mearly_stopping_patience\u001b[49m\u001b[38;5;241;43m=\u001b[39;49m\u001b[43mearly_stopping_patience\u001b[49m\u001b[43m,\u001b[49m\u001b[43m \u001b[49m\u001b[43mcheckpoint_path\u001b[49m\u001b[38;5;241;43m=\u001b[39;49m\u001b[43mcheckpoint_path\u001b[49m\u001b[43m)\u001b[49m\n",
      "Cell \u001b[1;32mIn[3], line 43\u001b[0m, in \u001b[0;36mtrain_model\u001b[1;34m(model, train_loader, val_loader, config, n_epochs, warmup_epochs, initial_lr, early_stopping_patience, checkpoint_path)\u001b[0m\n\u001b[0;32m     40\u001b[0m epoch_loss \u001b[38;5;241m+\u001b[39m\u001b[38;5;241m=\u001b[39m loss\u001b[38;5;241m.\u001b[39mitem()\n\u001b[0;32m     42\u001b[0m \u001b[38;5;66;03m# Backward pass and optimization\u001b[39;00m\n\u001b[1;32m---> 43\u001b[0m \u001b[43mloss\u001b[49m\u001b[38;5;241;43m.\u001b[39;49m\u001b[43mbackward\u001b[49m\u001b[43m(\u001b[49m\u001b[43m)\u001b[49m\n\u001b[0;32m     44\u001b[0m torch\u001b[38;5;241m.\u001b[39mnn\u001b[38;5;241m.\u001b[39mutils\u001b[38;5;241m.\u001b[39mclip_grad_norm_(model\u001b[38;5;241m.\u001b[39mparameters(), \u001b[38;5;241m1.0\u001b[39m)\n\u001b[0;32m     45\u001b[0m optimizer\u001b[38;5;241m.\u001b[39mstep()\n",
      "File \u001b[1;32mc:\\Users\\23603526\\AppData\\Local\\Programs\\Python\\Python311\\Lib\\site-packages\\torch\\_tensor.py:522\u001b[0m, in \u001b[0;36mTensor.backward\u001b[1;34m(self, gradient, retain_graph, create_graph, inputs)\u001b[0m\n\u001b[0;32m    512\u001b[0m \u001b[38;5;28;01mif\u001b[39;00m has_torch_function_unary(\u001b[38;5;28mself\u001b[39m):\n\u001b[0;32m    513\u001b[0m     \u001b[38;5;28;01mreturn\u001b[39;00m handle_torch_function(\n\u001b[0;32m    514\u001b[0m         Tensor\u001b[38;5;241m.\u001b[39mbackward,\n\u001b[0;32m    515\u001b[0m         (\u001b[38;5;28mself\u001b[39m,),\n\u001b[1;32m   (...)\u001b[0m\n\u001b[0;32m    520\u001b[0m         inputs\u001b[38;5;241m=\u001b[39minputs,\n\u001b[0;32m    521\u001b[0m     )\n\u001b[1;32m--> 522\u001b[0m \u001b[43mtorch\u001b[49m\u001b[38;5;241;43m.\u001b[39;49m\u001b[43mautograd\u001b[49m\u001b[38;5;241;43m.\u001b[39;49m\u001b[43mbackward\u001b[49m\u001b[43m(\u001b[49m\n\u001b[0;32m    523\u001b[0m \u001b[43m    \u001b[49m\u001b[38;5;28;43mself\u001b[39;49m\u001b[43m,\u001b[49m\u001b[43m \u001b[49m\u001b[43mgradient\u001b[49m\u001b[43m,\u001b[49m\u001b[43m \u001b[49m\u001b[43mretain_graph\u001b[49m\u001b[43m,\u001b[49m\u001b[43m \u001b[49m\u001b[43mcreate_graph\u001b[49m\u001b[43m,\u001b[49m\u001b[43m \u001b[49m\u001b[43minputs\u001b[49m\u001b[38;5;241;43m=\u001b[39;49m\u001b[43minputs\u001b[49m\n\u001b[0;32m    524\u001b[0m \u001b[43m\u001b[49m\u001b[43m)\u001b[49m\n",
      "File \u001b[1;32mc:\\Users\\23603526\\AppData\\Local\\Programs\\Python\\Python311\\Lib\\site-packages\\torch\\autograd\\__init__.py:266\u001b[0m, in \u001b[0;36mbackward\u001b[1;34m(tensors, grad_tensors, retain_graph, create_graph, grad_variables, inputs)\u001b[0m\n\u001b[0;32m    261\u001b[0m     retain_graph \u001b[38;5;241m=\u001b[39m create_graph\n\u001b[0;32m    263\u001b[0m \u001b[38;5;66;03m# The reason we repeat the same comment below is that\u001b[39;00m\n\u001b[0;32m    264\u001b[0m \u001b[38;5;66;03m# some Python versions print out the first line of a multi-line function\u001b[39;00m\n\u001b[0;32m    265\u001b[0m \u001b[38;5;66;03m# calls in the traceback and some print out the last line\u001b[39;00m\n\u001b[1;32m--> 266\u001b[0m \u001b[43mVariable\u001b[49m\u001b[38;5;241;43m.\u001b[39;49m\u001b[43m_execution_engine\u001b[49m\u001b[38;5;241;43m.\u001b[39;49m\u001b[43mrun_backward\u001b[49m\u001b[43m(\u001b[49m\u001b[43m  \u001b[49m\u001b[38;5;66;43;03m# Calls into the C++ engine to run the backward pass\u001b[39;49;00m\n\u001b[0;32m    267\u001b[0m \u001b[43m    \u001b[49m\u001b[43mtensors\u001b[49m\u001b[43m,\u001b[49m\n\u001b[0;32m    268\u001b[0m \u001b[43m    \u001b[49m\u001b[43mgrad_tensors_\u001b[49m\u001b[43m,\u001b[49m\n\u001b[0;32m    269\u001b[0m \u001b[43m    \u001b[49m\u001b[43mretain_graph\u001b[49m\u001b[43m,\u001b[49m\n\u001b[0;32m    270\u001b[0m \u001b[43m    \u001b[49m\u001b[43mcreate_graph\u001b[49m\u001b[43m,\u001b[49m\n\u001b[0;32m    271\u001b[0m \u001b[43m    \u001b[49m\u001b[43minputs\u001b[49m\u001b[43m,\u001b[49m\n\u001b[0;32m    272\u001b[0m \u001b[43m    \u001b[49m\u001b[43mallow_unreachable\u001b[49m\u001b[38;5;241;43m=\u001b[39;49m\u001b[38;5;28;43;01mTrue\u001b[39;49;00m\u001b[43m,\u001b[49m\n\u001b[0;32m    273\u001b[0m \u001b[43m    \u001b[49m\u001b[43maccumulate_grad\u001b[49m\u001b[38;5;241;43m=\u001b[39;49m\u001b[38;5;28;43;01mTrue\u001b[39;49;00m\u001b[43m,\u001b[49m\n\u001b[0;32m    274\u001b[0m \u001b[43m\u001b[49m\u001b[43m)\u001b[49m\n",
      "\u001b[1;31mKeyboardInterrupt\u001b[0m: "
     ]
    }
   ],
   "source": [
    "window_size = 48\n",
    "steps = 24\n",
    "spaces = 0\n",
    "hidden_size = 64\n",
    "batch_size = 32\n",
    "\n",
    "config = {\n",
    "    \"hidden_layer_sizes\": [hidden_size],\n",
    "    \"window_size\" : [window_size],\n",
    "    \"step_size\" : [steps],\n",
    "    \"spaces\" : [spaces],\n",
    "    \"batch_size\": [batch_size]\n",
    "}\n",
    "\n",
    "# Hyperparameters\n",
    "n_epochs = 10\n",
    "warmup_epochs = 1\n",
    "initial_lr = 1e-4\n",
    "early_stopping_patience = 5\n",
    "checkpoint_path = 'best_model.pth'\n",
    "\n",
    "wandb.init(project=\"time_series_forecasting\", name=\"transfromer\", config=config)\n",
    "\n",
    "model = TransformerModel(window_size=window_size, \n",
    "                         d_model=hidden_size, \n",
    "                         nhead=4, \n",
    "                         num_layers=2, \n",
    "                         output_dim=steps)\n",
    "\n",
    "train_set = WeatherData(window_size=window_size, step_size=steps, set='train', spaces=spaces, verbose=True)\n",
    "train_loader = DataLoader(train_set,\n",
    "                           batch_size=batch_size, shuffle=True)\n",
    "    \n",
    "val_set = WeatherData(window_size=window_size, step_size=steps, set='val', spaces=spaces, verbose=True)\n",
    "val_loader = DataLoader(val_set,\n",
    "                           batch_size=batch_size, shuffle=False)\n",
    "\n",
    "train_model(model, train_loader, val_loader, config, n_epochs=n_epochs, warmup_epochs=warmup_epochs,\n",
    "            initial_lr=initial_lr, early_stopping_patience=early_stopping_patience, checkpoint_path=checkpoint_path)\n",
    "\n"
   ]
  },
  {
   "cell_type": "code",
   "execution_count": 86,
   "metadata": {},
   "outputs": [
    {
     "data": {
      "image/png": "[encoded data removed]",
      "text/plain": [
       "<Figure size 640x480 with 1 Axes>"
      ]
     },
     "metadata": {},
     "output_type": "display_data"
    }
   ],
   "source": [
    "for batch in train_loader:\n",
    "    x, y = batch\n",
    "    break\n",
    "\n",
    "y_pred = model(x.float())\n",
    "\n",
    "plt.plot(np.arange(window_size), x[0, :, 5].detach().numpy(), label='Input')\n",
    "plt.plot(np.arange(window_size,window_size+steps), y[0].detach().numpy(),  label='Target')\n",
    "plt.plot(np.arange(window_size,window_size+steps), y_pred[0].detach().numpy(), label='Prediction')\n",
    "\n",
    "plt.legend()\n",
    "plt.show()\n"
   ]
  }
 ],
 "metadata": {
  "kernelspec": {
   "display_name": "Python 3",
   "language": "python",
   "name": "python3"
  },
  "language_info": {
   "codemirror_mode": {
    "name": "ipython",
    "version": 3
   },
   "file_extension": ".py",
   "mimetype": "text/x-python",
   "name": "python",
   "nbconvert_exporter": "python",
   "pygments_lexer": "ipython3",
   "version": "3.11.7"
  }
 },
 "nbformat": 4,
 "nbformat_minor": 2
}
