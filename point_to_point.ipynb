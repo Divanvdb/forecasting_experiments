{
 "cells": [
  {
   "cell_type": "code",
   "execution_count": 5,
   "metadata": {},
   "outputs": [],
   "source": [
    "from fore_utils import *"
   ]
  },
  {
   "cell_type": "code",
   "execution_count": null,
   "metadata": {},
   "outputs": [],
   "source": [
    "import torch\n",
    "import torch.nn as nn\n",
    "    \n",
    "class TransformerModel_Point(nn.Module):\n",
    "    def __init__(self, window_size: int = 24, variables: int = 6, spaces: int = 0, d_model=64, nhead=8, num_layers=8, output_dim: int = 12):\n",
    "        super(TransformerModel_Point, self).__init__()\n",
    "\n",
    "        input_dim = window_size * variables * spaces\n",
    "\n",
    "        self.encoder = nn.Linear(input_dim, d_model)\n",
    "\n",
    "        encoder_layers = nn.TransformerEncoderLayer(d_model, nhead, batch_first=True)\n",
    "\n",
    "        self.transformer_encoder = nn.TransformerEncoder(encoder_layers, num_layers)\n",
    "\n",
    "        self.decoder = nn.Linear(d_model, output_dim)\n",
    "\n",
    "    def forward(self, x):\n",
    "        x = x.view(x.size(0), -1)\n",
    "        # print(x.shape)\n",
    "\n",
    "        x = self.encoder(x)\n",
    "        # print(x.shape)\n",
    "\n",
    "        x = x.unsqueeze(1) \n",
    "        \n",
    "        x = self.transformer_encoder(x)\n",
    "        # print(x.shape)\n",
    "\n",
    "        x = self.decoder(x.squeeze(1))\n",
    "        # print(x.shape)\n",
    "        \n",
    "        return x\n",
    "    \n",
    "class SimpleLSTM(nn.Module):\n",
    "    def __init__(self, input_dim: int = 6, hidden_dim: int = 64, num_layers: int = 2, output_dim: int = 24):\n",
    "        super(SimpleLSTM, self).__init__()\n",
    "        \n",
    "        self.lstm = nn.LSTM(input_dim, hidden_dim, num_layers, batch_first=True)\n",
    "        self.fc = nn.Linear(hidden_dim, output_dim)\n",
    "        \n",
    "    def forward(self, x):\n",
    "        # LSTM expects input of shape (batch_size, seq_len, input_dim)\n",
    "        _, (hn, _) = self.lstm(x)  # hn is the hidden state from the last LSTM layer\n",
    "        \n",
    "        # Take the last hidden state and pass through the fully connected layer\n",
    "        x = self.fc(hn[-1])  # Shape: [batch_size, output_dim]\n",
    "        return x\n",
    "\n",
    "\n",
    "class SimpleMLP(nn.Module):\n",
    "    def __init__(self, window_size: int = 5, variables: int = 6, hidden_dim: int = 128, output_dim: int = 24):\n",
    "        super(SimpleMLP, self).__init__()\n",
    "        \n",
    "        input_dim = window_size * variables  # Flattened input dimension\n",
    "        self.fc1 = nn.Linear(input_dim, hidden_dim)\n",
    "        self.fc2 = nn.Linear(hidden_dim, hidden_dim)\n",
    "        self.fc3 = nn.Linear(hidden_dim, output_dim)\n",
    "        self.relu = nn.ReLU()\n",
    "        \n",
    "    def forward(self, x):\n",
    "        # Flatten the input\n",
    "        x = x.view(x.size(0), -1)  # Shape: [batch_size, window_size * variables]\n",
    "        \n",
    "        # Pass through the fully connected layers\n",
    "        x = self.relu(self.fc1(x))\n",
    "        x = self.relu(self.fc2(x))\n",
    "        x = self.fc3(x)  # Final output layer with output_dim neurons\n",
    "        return x\n",
    "\n",
    "class EnsembleForecastingModel(nn.Module):\n",
    "    def __init__(self, window_size: int = 5, variables: int = 6, spaces: int = 1, d_model=64, nhead=8, num_layers=8, output_dim: int = 24, hidden_dim: int = 128):\n",
    "        super(EnsembleForecastingModel, self).__init__()\n",
    "        \n",
    "        # Initialize individual models\n",
    "        self.transformer_model = TransformerModel_Point(window_size=window_size, variables=variables, spaces=spaces, d_model=d_model, nhead=nhead, num_layers=num_layers, output_dim=output_dim)\n",
    "        self.lstm_model = SimpleLSTM(input_dim=variables, hidden_dim=hidden_dim, num_layers=2, output_dim=output_dim)\n",
    "        self.mlp_model = SimpleMLP(window_size=window_size, variables=variables, hidden_dim=hidden_dim, output_dim=output_dim)\n",
    "        \n",
    "        # Optional learnable weights for each model\n",
    "        self.weights = nn.Parameter(torch.ones(3))  # One weight per model\n",
    "    \n",
    "    def forward(self, x):\n",
    "        # Get predictions from each model\n",
    "        transformer_output = self.transformer_model(x)\n",
    "        lstm_output = self.lstm_model(x)\n",
    "        mlp_output = self.mlp_model(x)\n",
    "        \n",
    "        # Stack outputs for weighted average\n",
    "        outputs = torch.stack([transformer_output, lstm_output, mlp_output], dim=0)  # Shape: [3, batch_size, output_dim]\n",
    "        \n",
    "        # Normalize weights and compute weighted sum\n",
    "        normalized_weights = torch.softmax(self.weights, dim=0)\n",
    "        ensemble_output = (normalized_weights.view(-1, 1, 1) * outputs).sum(dim=0)  # Shape: [batch_size, output_dim]\n",
    "        \n",
    "        return ensemble_output\n"
   ]
  },
  {
   "cell_type": "code",
   "execution_count": 9,
   "metadata": {},
   "outputs": [
    {
     "name": "stdout",
     "output_type": "stream",
     "text": [
      "Details for train set:\n",
      "Data from ['2018', '2019', '2020', '2021'] loaded\n",
      "Features shape: torch.Size([35064, 6])\n",
      "Targets shape: torch.Size([35064])\n",
      "Longitudes: 18.3061580657959\n",
      "Latitudes: -31.636999130249023\n",
      "Details for val set:\n",
      "Data from ['2022'] loaded\n",
      "Features shape: torch.Size([8760, 6])\n",
      "Targets shape: torch.Size([8760])\n",
      "Longitudes: 18.3061580657959\n",
      "Latitudes: -31.636999130249023\n"
     ]
    }
   ],
   "source": [
    "window_size = 5\n",
    "steps = 24\n",
    "spaces = 0\n",
    "hidden_size = 32\n",
    "batch_size = 64\n",
    "n_heads = 4\n",
    "num_layers = 8\n",
    "series_target = True\n",
    "lightning = False\n",
    "verbose = True\n",
    "\n",
    "config = {\n",
    "    \"hidden_layer_sizes\": [hidden_size],\n",
    "    \"window_size\" : [window_size],\n",
    "    \"step_size\" : [steps],\n",
    "    \"spaces\" : [spaces],\n",
    "    \"batch_size\": [batch_size],\n",
    "    \"n_heads\": [n_heads],\n",
    "    \"num_layers\": [num_layers],\n",
    "    \"series_target\": [series_target],\n",
    "    \"lightning\": [lightning],\n",
    "}\n",
    "\n",
    "train_set = WeatherData(window_size=window_size, step_size=steps, set='train', spaces=spaces, lightning=lightning, series_target=series_target, verbose=verbose)\n",
    "train_loader = DataLoader(train_set,\n",
    "                           batch_size=batch_size, shuffle=True)\n",
    "    \n",
    "val_set = WeatherData(window_size=window_size, step_size=steps, set='val', spaces=spaces, lightning=lightning, series_target=series_target, verbose=verbose)\n",
    "val_loader = DataLoader(val_set,\n",
    "                           batch_size=batch_size, shuffle=False)\n"
   ]
  },
  {
   "cell_type": "code",
   "execution_count": null,
   "metadata": {},
   "outputs": [
    {
     "name": "stdout",
     "output_type": "stream",
     "text": [
      "Input shape: torch.Size([64, 5, 6])\n",
      "Target shape: torch.Size([64, 24])\n",
      "Prediction shape: torch.Size([64, 24])\n",
      "torch.Size([64, 5])\n"
     ]
    },
    {
     "data": {
      "image/png": "[encoded data removed]",
      "text/plain": [
       "<Figure size 640x480 with 1 Axes>"
      ]
     },
     "metadata": {},
     "output_type": "display_data"
    }
   ],
   "source": [
    "for batch in train_loader:\n",
    "    x,b, y = batch\n",
    "    break\n",
    "\n",
    "# model = TransformerModel_Point(window_size=window_size, \n",
    "#                             variables=6, \n",
    "#                             spaces=1, \n",
    "#                             d_model=hidden_size, \n",
    "#                             nhead=n_heads, \n",
    "#                             num_layers=num_layers, \n",
    "#                             output_dim=steps)\n",
    "\n",
    "# model = SimpleLSTM(input_dim=window_size, \n",
    "#                    hidden_dim=hidden_size, \n",
    "#                    num_layers=num_layers, \n",
    "#                    output_dim=steps)\n",
    "\n",
    "# model = SimpleMLP(window_size=window_size, \n",
    "#                    variables=6, \n",
    "#                    hidden_dim=hidden_size, \n",
    "#                    output_dim=steps)\n",
    "\n",
    "model = EnsembleForecastingModel(window_size=window_size,\n",
    "                                    variables=6,\n",
    "                                    spaces=1,\n",
    "                                    d_model=hidden_size,\n",
    "                                    nhead=n_heads,\n",
    "                                    num_layers=num_layers,\n",
    "                                    output_dim=steps,\n",
    "                                    hidden_dim=hidden_size)\n",
    "\n",
    "model.to('cpu')\n",
    "\n",
    "print('Input shape:', x.shape)\n",
    "print('Target shape:', y.shape)\n",
    "\n",
    "\n",
    "y_pred = model(x.float())\n",
    "\n",
    "print('Prediction shape:', y_pred.shape)\n",
    "\n",
    "print(b.shape)\n",
    "\n",
    "plt.plot(np.arange(window_size), b[0].detach().numpy(), label='Input')\n",
    "plt.plot(np.arange(window_size,window_size+steps), y[0].detach().numpy(),  label='Target')\n",
    "plt.plot(np.arange(window_size,window_size+steps), y_pred[0].detach().numpy(), label='Prediction')\n",
    "\n",
    "plt.legend()\n",
    "plt.show()"
   ]
  },
  {
   "cell_type": "code",
   "execution_count": null,
   "metadata": {},
   "outputs": [
    {
     "data": {
      "text/html": [
       "Finishing last run (ID:w7yusbo8) before initializing another..."
      ],
      "text/plain": [
       "<IPython.core.display.HTML object>"
      ]
     },
     "metadata": {},
     "output_type": "display_data"
    },
    {
     "data": {
      "application/vnd.jupyter.widget-view+json": {
       "model_id": "c6c8aaf4675543969fedc11be5bf0066",
       "version_major": 2,
       "version_minor": 0
      },
      "text/plain": [
       "VBox(children=(Label(value='0.124 MB of 0.124 MB uploaded\\r'), FloatProgress(value=1.0, max=1.0)))"
      ]
     },
     "metadata": {},
     "output_type": "display_data"
    },
    {
     "data": {
      "text/html": [
       "<style>\n",
       "    table.wandb td:nth-child(1) { padding: 0 10px; text-align: left ; width: auto;} td:nth-child(2) {text-align: left ; width: 100%}\n",
       "    .wandb-row { display: flex; flex-direction: row; flex-wrap: wrap; justify-content: flex-start; width: 100% }\n",
       "    .wandb-col { display: flex; flex-direction: column; flex-basis: 100%; flex: 1; padding: 10px; }\n",
       "    </style>\n",
       "<div class=\"wandb-row\"><div class=\"wandb-col\"><h3>Run history:</h3><br/><table class=\"wandb\"><tr><td>epoch</td><td>▁</td></tr><tr><td>learning_rate</td><td>▁</td></tr><tr><td>train_loss</td><td>▁</td></tr><tr><td>val_loss</td><td>▁</td></tr></table><br/></div><div class=\"wandb-col\"><h3>Run summary:</h3><br/><table class=\"wandb\"><tr><td>epoch</td><td>0</td></tr><tr><td>learning_rate</td><td>0.0</td></tr><tr><td>train_loss</td><td>1.45937</td></tr><tr><td>val_loss</td><td>0.97462</td></tr></table><br/></div></div>"
      ],
      "text/plain": [
       "<IPython.core.display.HTML object>"
      ]
     },
     "metadata": {},
     "output_type": "display_data"
    },
    {
     "data": {
      "text/html": [
       " View run <strong style=\"color:#cdcd00\">model_48_64_24</strong> at: <a href='https://wandb.ai/divanvanderbank/time_series_forecasting/runs/w7yusbo8' target=\"_blank\">https://wandb.ai/divanvanderbank/time_series_forecasting/runs/w7yusbo8</a><br/> View project at: <a href='https://wandb.ai/divanvanderbank/time_series_forecasting' target=\"_blank\">https://wandb.ai/divanvanderbank/time_series_forecasting</a><br/>Synced 5 W&B file(s), 0 media file(s), 7 artifact file(s) and 0 other file(s)"
      ],
      "text/plain": [
       "<IPython.core.display.HTML object>"
      ]
     },
     "metadata": {},
     "output_type": "display_data"
    },
    {
     "data": {
      "text/html": [
       "Find logs at: <code>./wandb/run-20241029_141941-w7yusbo8/logs</code>"
      ],
      "text/plain": [
       "<IPython.core.display.HTML object>"
      ]
     },
     "metadata": {},
     "output_type": "display_data"
    },
    {
     "data": {
      "text/html": [
       "Successfully finished last run (ID:w7yusbo8). Initializing new run:<br/>"
      ],
      "text/plain": [
       "<IPython.core.display.HTML object>"
      ]
     },
     "metadata": {},
     "output_type": "display_data"
    },
    {
     "data": {
      "text/html": [
       "Tracking run with wandb version 0.18.5"
      ],
      "text/plain": [
       "<IPython.core.display.HTML object>"
      ]
     },
     "metadata": {},
     "output_type": "display_data"
    },
    {
     "data": {
      "text/html": [
       "Run data is saved locally in <code>/teamspace/studios/this_studio/wandb/run-20241029_141958-jw3dsqvq</code>"
      ],
      "text/plain": [
       "<IPython.core.display.HTML object>"
      ]
     },
     "metadata": {},
     "output_type": "display_data"
    },
    {
     "data": {
      "text/html": [
       "Syncing run <strong><a href='https://wandb.ai/divanvanderbank/time_series_forecasting/runs/jw3dsqvq' target=\"_blank\">model_48_64_24</a></strong> to <a href='https://wandb.ai/divanvanderbank/time_series_forecasting' target=\"_blank\">Weights & Biases</a> (<a href='https://wandb.me/run' target=\"_blank\">docs</a>)<br/>"
      ],
      "text/plain": [
       "<IPython.core.display.HTML object>"
      ]
     },
     "metadata": {},
     "output_type": "display_data"
    },
    {
     "data": {
      "text/html": [
       " View project at <a href='https://wandb.ai/divanvanderbank/time_series_forecasting' target=\"_blank\">https://wandb.ai/divanvanderbank/time_series_forecasting</a>"
      ],
      "text/plain": [
       "<IPython.core.display.HTML object>"
      ]
     },
     "metadata": {},
     "output_type": "display_data"
    },
    {
     "data": {
      "text/html": [
       " View run at <a href='https://wandb.ai/divanvanderbank/time_series_forecasting/runs/jw3dsqvq' target=\"_blank\">https://wandb.ai/divanvanderbank/time_series_forecasting/runs/jw3dsqvq</a>"
      ],
      "text/plain": [
       "<IPython.core.display.HTML object>"
      ]
     },
     "metadata": {},
     "output_type": "display_data"
    },
    {
     "name": "stdout",
     "output_type": "stream",
     "text": [
      "Epoch 0, Batch 0, Loss: 3.1392\n",
      "Epoch 0, Batch 100, Loss: 2.5627\n",
      "Epoch 0, Batch 200, Loss: 2.4510\n",
      "Epoch 0, Batch 300, Loss: 1.2861\n",
      "Epoch 0, Batch 400, Loss: 1.5506\n",
      "Epoch 0, Batch 500, Loss: 1.1442\n",
      "Epoch 0, Batch 600, Loss: 1.0019\n",
      "Epoch 0, Batch 700, Loss: 1.1687\n",
      "Epoch 0, Batch 800, Loss: 1.3055\n",
      "Epoch 0, Batch 900, Loss: 0.8565\n",
      "Epoch 0, Batch 1000, Loss: 0.7735\n",
      "Epoch 0 Completed, Average Training Loss: 1.3697\n",
      "Validation Loss after Epoch 0: 0.8533\n",
      "Learning rate after Epoch 0: 0.000002\n",
      "New best model saved with validation loss: 0.8533\n",
      "Epoch 1, Batch 0, Loss: 1.0102\n",
      "Epoch 1, Batch 100, Loss: 0.6417\n",
      "Epoch 1, Batch 200, Loss: 1.0630\n",
      "Epoch 1, Batch 300, Loss: 0.9869\n",
      "Epoch 1, Batch 400, Loss: 0.5055\n",
      "Epoch 1, Batch 500, Loss: 0.9173\n",
      "Epoch 1, Batch 600, Loss: 0.8826\n",
      "Epoch 1, Batch 700, Loss: 0.7573\n",
      "Epoch 1, Batch 800, Loss: 0.6154\n",
      "Epoch 1, Batch 900, Loss: 0.7683\n",
      "Epoch 1, Batch 1000, Loss: 0.5876\n",
      "Epoch 1 Completed, Average Training Loss: 0.6931\n",
      "Validation Loss after Epoch 1: 0.5997\n",
      "Learning rate after Epoch 1: 0.000003\n",
      "New best model saved with validation loss: 0.5997\n",
      "Epoch 2, Batch 0, Loss: 0.3288\n",
      "Epoch 2, Batch 100, Loss: 0.4829\n",
      "Epoch 2, Batch 200, Loss: 0.5060\n",
      "Epoch 2, Batch 300, Loss: 0.8257\n",
      "Epoch 2, Batch 400, Loss: 0.4536\n",
      "Epoch 2, Batch 500, Loss: 0.4837\n",
      "Epoch 2, Batch 600, Loss: 0.6067\n",
      "Epoch 2, Batch 700, Loss: 0.7204\n",
      "Epoch 2, Batch 800, Loss: 0.4109\n",
      "Epoch 2, Batch 900, Loss: 0.7195\n",
      "Epoch 2, Batch 1000, Loss: 0.3535\n",
      "Epoch 2 Completed, Average Training Loss: 0.5447\n",
      "Validation Loss after Epoch 2: 0.4984\n",
      "Learning rate after Epoch 2: 0.000004\n",
      "New best model saved with validation loss: 0.4984\n",
      "Epoch 3, Batch 0, Loss: 0.4575\n",
      "Epoch 3, Batch 100, Loss: 0.6814\n",
      "Epoch 3, Batch 200, Loss: 0.4793\n",
      "Epoch 3, Batch 300, Loss: 0.4449\n",
      "Epoch 3, Batch 400, Loss: 0.3480\n",
      "Epoch 3, Batch 500, Loss: 0.2741\n",
      "Epoch 3, Batch 600, Loss: 0.4212\n",
      "Epoch 3, Batch 700, Loss: 0.5955\n",
      "Epoch 3, Batch 800, Loss: 0.4111\n",
      "Epoch 3, Batch 900, Loss: 0.3238\n",
      "Epoch 3, Batch 1000, Loss: 0.2750\n",
      "Epoch 3 Completed, Average Training Loss: 0.4573\n",
      "Validation Loss after Epoch 3: 0.4403\n",
      "Learning rate after Epoch 3: 0.000005\n",
      "New best model saved with validation loss: 0.4403\n",
      "Epoch 4, Batch 0, Loss: 0.2641\n",
      "Epoch 4, Batch 100, Loss: 0.3495\n",
      "Epoch 4, Batch 200, Loss: 0.5436\n",
      "Epoch 4, Batch 300, Loss: 0.4072\n",
      "Epoch 4, Batch 400, Loss: 0.3711\n",
      "Epoch 4, Batch 500, Loss: 0.4231\n",
      "Epoch 4, Batch 600, Loss: 0.3615\n",
      "Epoch 4, Batch 700, Loss: 0.4511\n",
      "Epoch 4, Batch 800, Loss: 0.4176\n",
      "Epoch 4, Batch 900, Loss: 0.3689\n",
      "Epoch 4, Batch 1000, Loss: 0.4578\n",
      "Epoch 4 Completed, Average Training Loss: 0.4063\n",
      "Validation Loss after Epoch 4: 0.3976\n",
      "Learning rate after Epoch 4: 0.000006\n",
      "New best model saved with validation loss: 0.3976\n",
      "Epoch 5, Batch 0, Loss: 0.4301\n",
      "Epoch 5, Batch 100, Loss: 0.3390\n",
      "Epoch 5, Batch 200, Loss: 0.4090\n",
      "Epoch 5, Batch 300, Loss: 0.4178\n",
      "Epoch 5, Batch 400, Loss: 0.4581\n",
      "Epoch 5, Batch 500, Loss: 0.4370\n",
      "Epoch 5, Batch 600, Loss: 0.5074\n",
      "Epoch 5, Batch 700, Loss: 0.2546\n",
      "Epoch 5, Batch 800, Loss: 0.3260\n",
      "Epoch 5, Batch 900, Loss: 0.3247\n",
      "Epoch 5, Batch 1000, Loss: 0.3831\n",
      "Epoch 5 Completed, Average Training Loss: 0.3673\n",
      "Validation Loss after Epoch 5: 0.3642\n",
      "Learning rate after Epoch 5: 0.000007\n",
      "New best model saved with validation loss: 0.3642\n",
      "Epoch 6, Batch 0, Loss: 0.5140\n",
      "Epoch 6, Batch 100, Loss: 0.4871\n",
      "Epoch 6, Batch 200, Loss: 0.5353\n",
      "Epoch 6, Batch 300, Loss: 0.2790\n",
      "Epoch 6, Batch 400, Loss: 0.2371\n",
      "Epoch 6, Batch 500, Loss: 0.3170\n",
      "Epoch 6, Batch 600, Loss: 0.3699\n",
      "Epoch 6, Batch 700, Loss: 0.2338\n",
      "Epoch 6, Batch 800, Loss: 0.3746\n",
      "Epoch 6, Batch 900, Loss: 0.3812\n",
      "Epoch 6, Batch 1000, Loss: 0.3578\n",
      "Epoch 6 Completed, Average Training Loss: 0.3415\n",
      "Validation Loss after Epoch 6: 0.3463\n",
      "Learning rate after Epoch 6: 0.000008\n",
      "New best model saved with validation loss: 0.3463\n",
      "Epoch 7, Batch 0, Loss: 0.2921\n",
      "Epoch 7, Batch 100, Loss: 0.3011\n",
      "Epoch 7, Batch 200, Loss: 0.4070\n",
      "Epoch 7, Batch 300, Loss: 0.3112\n",
      "Epoch 7, Batch 400, Loss: 0.2726\n",
      "Epoch 7, Batch 500, Loss: 0.4691\n",
      "Epoch 7, Batch 600, Loss: 0.4115\n",
      "Epoch 7, Batch 700, Loss: 0.2813\n",
      "Epoch 7, Batch 800, Loss: 0.3215\n",
      "Epoch 7, Batch 900, Loss: 0.4688\n",
      "Epoch 7, Batch 1000, Loss: 0.2400\n",
      "Epoch 7 Completed, Average Training Loss: 0.3249\n",
      "Validation Loss after Epoch 7: 0.3347\n",
      "Learning rate after Epoch 7: 0.000009\n",
      "New best model saved with validation loss: 0.3347\n",
      "Epoch 8, Batch 0, Loss: 0.3621\n",
      "Epoch 8, Batch 100, Loss: 0.2534\n",
      "Epoch 8, Batch 200, Loss: 0.2704\n",
      "Epoch 8, Batch 300, Loss: 0.3000\n",
      "Epoch 8, Batch 400, Loss: 0.1785\n",
      "Epoch 8, Batch 500, Loss: 0.2107\n",
      "Epoch 8, Batch 600, Loss: 0.3440\n",
      "Epoch 8, Batch 700, Loss: 0.2185\n",
      "Epoch 8, Batch 800, Loss: 0.3051\n",
      "Epoch 8, Batch 900, Loss: 0.1785\n",
      "Epoch 8, Batch 1000, Loss: 0.3702\n",
      "Epoch 8 Completed, Average Training Loss: 0.3134\n",
      "Validation Loss after Epoch 8: 0.3238\n",
      "Learning rate after Epoch 8: 0.000010\n",
      "New best model saved with validation loss: 0.3238\n",
      "Epoch 9, Batch 0, Loss: 0.3859\n",
      "Epoch 9, Batch 100, Loss: 0.2354\n",
      "Epoch 9, Batch 200, Loss: 0.3208\n",
      "Epoch 9, Batch 300, Loss: 0.2910\n",
      "Epoch 9, Batch 400, Loss: 0.2320\n",
      "Epoch 9, Batch 500, Loss: 0.2823\n",
      "Epoch 9, Batch 600, Loss: 0.3930\n",
      "Epoch 9, Batch 700, Loss: 0.4165\n",
      "Epoch 9, Batch 800, Loss: 0.3087\n",
      "Epoch 9, Batch 900, Loss: 0.3132\n",
      "Epoch 9, Batch 1000, Loss: 0.2973\n",
      "Epoch 9 Completed, Average Training Loss: 0.3050\n",
      "Validation Loss after Epoch 9: 0.3160\n",
      "Learning rate after Epoch 9: 0.000010\n",
      "New best model saved with validation loss: 0.3160\n",
      "Epoch 10, Batch 0, Loss: 0.3359\n",
      "Epoch 10, Batch 100, Loss: 0.2205\n",
      "Epoch 10, Batch 200, Loss: 0.2599\n",
      "Epoch 10, Batch 300, Loss: 0.2327\n",
      "Epoch 10, Batch 400, Loss: 0.3497\n",
      "Epoch 10, Batch 500, Loss: 0.4789\n",
      "Epoch 10, Batch 600, Loss: 0.2562\n",
      "Epoch 10, Batch 700, Loss: 0.4076\n",
      "Epoch 10, Batch 800, Loss: 0.3373\n",
      "Epoch 10, Batch 900, Loss: 0.3332\n",
      "Epoch 10, Batch 1000, Loss: 0.2033\n",
      "Epoch 10 Completed, Average Training Loss: 0.2978\n",
      "Validation Loss after Epoch 10: 0.3122\n",
      "Learning rate after Epoch 10: 0.000010\n",
      "New best model saved with validation loss: 0.3122\n",
      "Epoch 11, Batch 0, Loss: 0.4160\n",
      "Epoch 11, Batch 100, Loss: 0.2962\n",
      "Epoch 11, Batch 200, Loss: 0.3030\n",
      "Epoch 11, Batch 300, Loss: 0.2544\n",
      "Epoch 11, Batch 400, Loss: 0.2414\n",
      "Epoch 11, Batch 500, Loss: 0.2258\n",
      "Epoch 11, Batch 600, Loss: 0.3545\n",
      "Epoch 11, Batch 700, Loss: 0.1786\n",
      "Epoch 11, Batch 800, Loss: 0.3061\n",
      "Epoch 11, Batch 900, Loss: 0.2977\n",
      "Epoch 11, Batch 1000, Loss: 0.2437\n",
      "Epoch 11 Completed, Average Training Loss: 0.2915\n",
      "Validation Loss after Epoch 11: 0.3083\n",
      "Learning rate after Epoch 11: 0.000010\n",
      "New best model saved with validation loss: 0.3083\n",
      "Epoch 12, Batch 0, Loss: 0.2704\n",
      "Epoch 12, Batch 100, Loss: 0.3516\n",
      "Epoch 12, Batch 200, Loss: 0.2624\n",
      "Epoch 12, Batch 300, Loss: 0.2199\n",
      "Epoch 12, Batch 400, Loss: 0.2663\n",
      "Epoch 12, Batch 500, Loss: 0.2080\n",
      "Epoch 12, Batch 600, Loss: 0.3324\n",
      "Epoch 12, Batch 700, Loss: 0.2946\n",
      "Epoch 12, Batch 800, Loss: 0.3766\n",
      "Epoch 12, Batch 900, Loss: 0.1899\n",
      "Epoch 12, Batch 1000, Loss: 0.3881\n",
      "Epoch 12 Completed, Average Training Loss: 0.2875\n",
      "Validation Loss after Epoch 12: 0.3073\n",
      "Learning rate after Epoch 12: 0.000010\n",
      "New best model saved with validation loss: 0.3073\n",
      "Epoch 13, Batch 0, Loss: 0.1944\n",
      "Epoch 13, Batch 100, Loss: 0.2649\n",
      "Epoch 13, Batch 200, Loss: 0.2677\n",
      "Epoch 13, Batch 300, Loss: 0.5469\n",
      "Epoch 13, Batch 400, Loss: 0.2315\n",
      "Epoch 13, Batch 500, Loss: 0.3449\n",
      "Epoch 13, Batch 600, Loss: 0.2623\n",
      "Epoch 13, Batch 700, Loss: 0.2778\n",
      "Epoch 13, Batch 800, Loss: 0.2325\n",
      "Epoch 13, Batch 900, Loss: 0.2167\n",
      "Epoch 13, Batch 1000, Loss: 0.2760\n",
      "Epoch 13 Completed, Average Training Loss: 0.2831\n",
      "Validation Loss after Epoch 13: 0.3038\n",
      "Learning rate after Epoch 13: 0.000010\n",
      "New best model saved with validation loss: 0.3038\n",
      "Epoch 14, Batch 0, Loss: 0.3412\n",
      "Epoch 14, Batch 100, Loss: 0.3257\n",
      "Epoch 14, Batch 200, Loss: 0.3882\n",
      "Epoch 14, Batch 300, Loss: 0.3153\n",
      "Epoch 14, Batch 400, Loss: 0.3303\n",
      "Epoch 14, Batch 500, Loss: 0.2113\n",
      "Epoch 14, Batch 600, Loss: 0.3534\n",
      "Epoch 14, Batch 700, Loss: 0.3076\n",
      "Epoch 14, Batch 800, Loss: 0.3911\n",
      "Epoch 14, Batch 900, Loss: 0.2843\n",
      "Epoch 14, Batch 1000, Loss: 0.2310\n",
      "Epoch 14 Completed, Average Training Loss: 0.2802\n",
      "Validation Loss after Epoch 14: 0.3020\n",
      "Learning rate after Epoch 14: 0.000010\n",
      "New best model saved with validation loss: 0.3020\n",
      "Epoch 15, Batch 0, Loss: 0.4418\n",
      "Epoch 15, Batch 100, Loss: 0.2679\n",
      "Epoch 15, Batch 200, Loss: 0.2477\n",
      "Epoch 15, Batch 300, Loss: 0.2572\n",
      "Epoch 15, Batch 400, Loss: 0.2836\n",
      "Epoch 15, Batch 500, Loss: 0.2752\n",
      "Epoch 15, Batch 600, Loss: 0.2296\n",
      "Epoch 15, Batch 700, Loss: 0.3730\n",
      "Epoch 15, Batch 800, Loss: 0.2115\n",
      "Epoch 15, Batch 900, Loss: 0.2522\n",
      "Epoch 15, Batch 1000, Loss: 0.2158\n",
      "Epoch 15 Completed, Average Training Loss: 0.2757\n",
      "Validation Loss after Epoch 15: 0.2989\n",
      "Learning rate after Epoch 15: 0.000010\n",
      "New best model saved with validation loss: 0.2989\n",
      "Epoch 16, Batch 0, Loss: 0.2239\n",
      "Epoch 16, Batch 100, Loss: 0.1992\n",
      "Epoch 16, Batch 200, Loss: 0.2092\n",
      "Epoch 16, Batch 300, Loss: 0.2472\n",
      "Epoch 16, Batch 400, Loss: 0.2549\n",
      "Epoch 16, Batch 500, Loss: 0.3734\n",
      "Epoch 16, Batch 600, Loss: 0.2612\n",
      "Epoch 16, Batch 700, Loss: 0.1852\n",
      "Epoch 16, Batch 800, Loss: 0.2399\n",
      "Epoch 16, Batch 900, Loss: 0.1744\n",
      "Epoch 16, Batch 1000, Loss: 0.2547\n",
      "Epoch 16 Completed, Average Training Loss: 0.2723\n",
      "Validation Loss after Epoch 16: 0.2988\n",
      "Learning rate after Epoch 16: 0.000010\n",
      "New best model saved with validation loss: 0.2988\n",
      "Epoch 17, Batch 0, Loss: 0.1761\n",
      "Epoch 17, Batch 100, Loss: 0.2740\n",
      "Epoch 17, Batch 200, Loss: 0.3859\n",
      "Epoch 17, Batch 300, Loss: 0.2749\n",
      "Epoch 17, Batch 400, Loss: 0.2660\n",
      "Epoch 17, Batch 500, Loss: 0.3129\n",
      "Epoch 17, Batch 600, Loss: 0.3212\n",
      "Epoch 17, Batch 700, Loss: 0.4049\n",
      "Epoch 17, Batch 800, Loss: 0.3170\n",
      "Epoch 17, Batch 900, Loss: 0.2581\n",
      "Epoch 17, Batch 1000, Loss: 0.2580\n",
      "Epoch 17 Completed, Average Training Loss: 0.2695\n",
      "Validation Loss after Epoch 17: 0.2977\n",
      "Learning rate after Epoch 17: 0.000010\n",
      "New best model saved with validation loss: 0.2977\n",
      "Epoch 18, Batch 0, Loss: 0.1990\n",
      "Epoch 18, Batch 100, Loss: 0.2452\n",
      "Epoch 18, Batch 200, Loss: 0.2249\n",
      "Epoch 18, Batch 300, Loss: 0.2704\n",
      "Epoch 18, Batch 400, Loss: 0.3224\n",
      "Epoch 18, Batch 500, Loss: 0.3004\n",
      "Epoch 18, Batch 600, Loss: 0.1761\n",
      "Epoch 18, Batch 700, Loss: 0.2328\n",
      "Epoch 18, Batch 800, Loss: 0.3940\n",
      "Epoch 18, Batch 900, Loss: 0.1572\n",
      "Epoch 18, Batch 1000, Loss: 0.1595\n",
      "Epoch 18 Completed, Average Training Loss: 0.2666\n",
      "Validation Loss after Epoch 18: 0.2982\n",
      "Learning rate after Epoch 18: 0.000010\n",
      "No improvement. Early stopping patience counter: 1/5\n",
      "Epoch 19, Batch 0, Loss: 0.2855\n",
      "Epoch 19, Batch 100, Loss: 0.2129\n",
      "Epoch 19, Batch 200, Loss: 0.3031\n",
      "Epoch 19, Batch 300, Loss: 0.2193\n",
      "Epoch 19, Batch 400, Loss: 0.2920\n",
      "Epoch 19, Batch 500, Loss: 0.2488\n",
      "Epoch 19, Batch 600, Loss: 0.2610\n",
      "Epoch 19, Batch 700, Loss: 0.3688\n",
      "Epoch 19, Batch 800, Loss: 0.2528\n",
      "Epoch 19, Batch 900, Loss: 0.2232\n",
      "Epoch 19, Batch 1000, Loss: 0.3602\n",
      "Epoch 19 Completed, Average Training Loss: 0.2642\n",
      "Validation Loss after Epoch 19: 0.2965\n",
      "Learning rate after Epoch 19: 0.000010\n",
      "New best model saved with validation loss: 0.2965\n",
      "Epoch 20, Batch 0, Loss: 0.2734\n",
      "Epoch 20, Batch 100, Loss: 0.2148\n",
      "Epoch 20, Batch 200, Loss: 0.2212\n",
      "Epoch 20, Batch 300, Loss: 0.2861\n",
      "Epoch 20, Batch 400, Loss: 0.3321\n",
      "Epoch 20, Batch 500, Loss: 0.3025\n",
      "Epoch 20, Batch 600, Loss: 0.2966\n",
      "Epoch 20, Batch 700, Loss: 0.3195\n",
      "Epoch 20, Batch 800, Loss: 0.1958\n",
      "Epoch 20, Batch 900, Loss: 0.1733\n",
      "Epoch 20, Batch 1000, Loss: 0.1990\n",
      "Epoch 20 Completed, Average Training Loss: 0.2612\n",
      "Validation Loss after Epoch 20: 0.2982\n",
      "Learning rate after Epoch 20: 0.000010\n",
      "No improvement. Early stopping patience counter: 1/5\n",
      "Epoch 21, Batch 0, Loss: 0.2523\n",
      "Epoch 21, Batch 100, Loss: 0.2194\n",
      "Epoch 21, Batch 200, Loss: 0.2822\n",
      "Epoch 21, Batch 300, Loss: 0.1769\n",
      "Epoch 21, Batch 400, Loss: 0.1944\n",
      "Epoch 21, Batch 500, Loss: 0.2408\n",
      "Epoch 21, Batch 600, Loss: 0.3951\n",
      "Epoch 21, Batch 700, Loss: 0.2808\n",
      "Epoch 21, Batch 800, Loss: 0.2249\n",
      "Epoch 21, Batch 900, Loss: 0.1648\n",
      "Epoch 21, Batch 1000, Loss: 0.1705\n",
      "Epoch 21 Completed, Average Training Loss: 0.2590\n",
      "Validation Loss after Epoch 21: 0.3055\n",
      "Learning rate after Epoch 21: 0.000010\n",
      "No improvement. Early stopping patience counter: 2/5\n",
      "Epoch 22, Batch 0, Loss: 0.1949\n",
      "Epoch 22, Batch 100, Loss: 0.3594\n",
      "Epoch 22, Batch 200, Loss: 0.3420\n",
      "Epoch 22, Batch 300, Loss: 0.2485\n",
      "Epoch 22, Batch 400, Loss: 0.3153\n",
      "Epoch 22, Batch 500, Loss: 0.2255\n",
      "Epoch 22, Batch 600, Loss: 0.1833\n",
      "Epoch 22, Batch 700, Loss: 0.2777\n",
      "Epoch 22, Batch 800, Loss: 0.2302\n",
      "Epoch 22, Batch 900, Loss: 0.2334\n",
      "Epoch 22, Batch 1000, Loss: 0.3179\n",
      "Epoch 22 Completed, Average Training Loss: 0.2570\n",
      "Validation Loss after Epoch 22: 0.2967\n",
      "Learning rate after Epoch 22: 0.000005\n",
      "No improvement. Early stopping patience counter: 3/5\n",
      "Epoch 23, Batch 0, Loss: 0.2427\n",
      "Epoch 23, Batch 100, Loss: 0.2542\n",
      "Epoch 23, Batch 200, Loss: 0.1624\n",
      "Epoch 23, Batch 300, Loss: 0.2730\n",
      "Epoch 23, Batch 400, Loss: 0.2489\n",
      "Epoch 23, Batch 500, Loss: 0.1561\n",
      "Epoch 23, Batch 600, Loss: 0.2397\n",
      "Epoch 23, Batch 700, Loss: 0.2810\n",
      "Epoch 23, Batch 800, Loss: 0.3267\n",
      "Epoch 23, Batch 900, Loss: 0.2419\n",
      "Epoch 23, Batch 1000, Loss: 0.2584\n",
      "Epoch 23 Completed, Average Training Loss: 0.2528\n",
      "Validation Loss after Epoch 23: 0.2995\n",
      "Learning rate after Epoch 23: 0.000005\n",
      "No improvement. Early stopping patience counter: 4/5\n",
      "Epoch 24, Batch 0, Loss: 0.2056\n",
      "Epoch 24, Batch 100, Loss: 0.1769\n",
      "Epoch 24, Batch 200, Loss: 0.2442\n",
      "Epoch 24, Batch 300, Loss: 0.2297\n",
      "Epoch 24, Batch 400, Loss: 0.1768\n",
      "Epoch 24, Batch 500, Loss: 0.2598\n",
      "Epoch 24, Batch 600, Loss: 0.2591\n",
      "Epoch 24, Batch 700, Loss: 0.2417\n",
      "Epoch 24, Batch 800, Loss: 0.3468\n",
      "Epoch 24, Batch 900, Loss: 0.2794\n",
      "Epoch 24, Batch 1000, Loss: 0.3121\n",
      "Epoch 24 Completed, Average Training Loss: 0.2522\n",
      "Validation Loss after Epoch 24: 0.2967\n",
      "Learning rate after Epoch 24: 0.000005\n",
      "No improvement. Early stopping patience counter: 5/5\n",
      "Early stopping triggered\n",
      "Best model loaded for evaluation or further use.\n"
     ]
    }
   ],
   "source": [
    "# Hyperparameters\n",
    "n_epochs = 100\n",
    "warmup_epochs = 10\n",
    "initial_lr = 1e-5\n",
    "early_stopping_patience = 5\n",
    "checkpoint_path = f'best_model_{window_size}_{hidden_size}_{steps}.pth'\n",
    "\n",
    "wandb.init(project=\"time_series_forecasting\", name=f'model_{window_size}_{hidden_size}_{steps}', config=config)\n",
    "\n",
    "device = torch.device(\"cuda\" if torch.cuda.is_available() else \"cpu\")\n",
    "                         \n",
    "train_model(model, train_loader, val_loader, n_epochs=n_epochs, warmup_epochs=warmup_epochs,\n",
    "            initial_lr=initial_lr, early_stopping_patience=early_stopping_patience, checkpoint_path=checkpoint_path, device=device)\n",
    "\n"
   ]
  },
  {
   "cell_type": "code",
   "execution_count": 8,
   "metadata": {},
   "outputs": [
    {
     "name": "stdout",
     "output_type": "stream",
     "text": [
      "10%\r"
     ]
    },
    {
     "name": "stdout",
     "output_type": "stream",
     "text": [
      "Details for test set:\n",
      "Data from ['2023'] loaded\n",
      "Features shape: torch.Size([8760, 6])\n",
      "Targets shape: torch.Size([8760])\n",
      "Longitudes: 18.3061580657959\n",
      "Latitudes: -31.636999130249023\n",
      "Test loss: 0.30236220255453405\n"
     ]
    },
    {
     "data": {
      "text/html": [
       "<style>\n",
       "    table.wandb td:nth-child(1) { padding: 0 10px; text-align: left ; width: auto;} td:nth-child(2) {text-align: left ; width: 100%}\n",
       "    .wandb-row { display: flex; flex-direction: row; flex-wrap: wrap; justify-content: flex-start; width: 100% }\n",
       "    .wandb-col { display: flex; flex-direction: column; flex-basis: 100%; flex: 1; padding: 10px; }\n",
       "    </style>\n",
       "<div class=\"wandb-row\"><div class=\"wandb-col\"><h3>Run history:</h3><br/><table class=\"wandb\"><tr><td>epoch</td><td>▁▁▂▂▂▂▃▃▃▄▄▄▅▅▅▅▆▆▆▇▇▇▇██</td></tr><tr><td>learning_rate</td><td>▁▂▃▄▅▅▆▇██████████████▄▄▄</td></tr><tr><td>test_loss</td><td>▁</td></tr><tr><td>train_loss</td><td>█▄▃▂▂▂▂▁▁▁▁▁▁▁▁▁▁▁▁▁▁▁▁▁▁</td></tr><tr><td>val_loss</td><td>█▅▄▃▂▂▂▁▁▁▁▁▁▁▁▁▁▁▁▁▁▁▁▁▁</td></tr></table><br/></div><div class=\"wandb-col\"><h3>Run summary:</h3><br/><table class=\"wandb\"><tr><td>epoch</td><td>24</td></tr><tr><td>learning_rate</td><td>1e-05</td></tr><tr><td>test_loss</td><td>0.30236</td></tr><tr><td>train_loss</td><td>0.25222</td></tr><tr><td>val_loss</td><td>0.2967</td></tr></table><br/></div></div>"
      ],
      "text/plain": [
       "<IPython.core.display.HTML object>"
      ]
     },
     "metadata": {},
     "output_type": "display_data"
    },
    {
     "data": {
      "text/html": [
       " View run <strong style=\"color:#cdcd00\">model_48_64_24</strong> at: <a href='https://wandb.ai/divanvanderbank/time_series_forecasting/runs/jw3dsqvq' target=\"_blank\">https://wandb.ai/divanvanderbank/time_series_forecasting/runs/jw3dsqvq</a><br/> View project at: <a href='https://wandb.ai/divanvanderbank/time_series_forecasting' target=\"_blank\">https://wandb.ai/divanvanderbank/time_series_forecasting</a><br/>Synced 5 W&B file(s), 0 media file(s), 0 artifact file(s) and 0 other file(s)"
      ],
      "text/plain": [
       "<IPython.core.display.HTML object>"
      ]
     },
     "metadata": {},
     "output_type": "display_data"
    },
    {
     "data": {
      "text/html": [
       "Find logs at: <code>./wandb/run-20241029_141958-jw3dsqvq/logs</code>"
      ],
      "text/plain": [
       "<IPython.core.display.HTML object>"
      ]
     },
     "metadata": {},
     "output_type": "display_data"
    }
   ],
   "source": [
    "test_loader = DataLoader(WeatherData(window_size=window_size, step_size=steps, set='test', spaces=spaces, lightning=True, verbose=True),\n",
    "                            batch_size=batch_size, shuffle=False)\n",
    "\n",
    "model.load_state_dict(torch.load(checkpoint_path))\n",
    "model.eval()\n",
    "\n",
    "test_loss = evaluate_model(model, test_loader, device)\n",
    "\n",
    "print(f\"Test loss: {test_loss}\")\n",
    "\n",
    "wandb.log({\"test_loss\": test_loss})\n",
    "\n",
    "wandb.finish()"
   ]
  },
  {
   "cell_type": "code",
   "execution_count": 1,
   "metadata": {},
   "outputs": [
    {
     "ename": "NameError",
     "evalue": "name 'train_loader' is not defined",
     "output_type": "error",
     "traceback": [
      "\u001b[1;31m---------------------------------------------------------------------------\u001b[0m",
      "\u001b[1;31mNameError\u001b[0m                                 Traceback (most recent call last)",
      "Cell \u001b[1;32mIn[1], line 1\u001b[0m\n\u001b[1;32m----> 1\u001b[0m \u001b[38;5;28;01mfor\u001b[39;00m batch \u001b[38;5;129;01min\u001b[39;00m \u001b[43mtrain_loader\u001b[49m:\n\u001b[0;32m      2\u001b[0m     x, y \u001b[38;5;241m=\u001b[39m batch\n\u001b[0;32m      3\u001b[0m     \u001b[38;5;28;01mbreak\u001b[39;00m\n",
      "\u001b[1;31mNameError\u001b[0m: name 'train_loader' is not defined"
     ]
    }
   ],
   "source": [
    "for batch in train_loader:\n",
    "    x, y = batch\n",
    "    break\n",
    "\n",
    "model.to('cpu')\n",
    "\n",
    "y_pred = model(x.float())\n",
    "\n",
    "plt.plot(np.arange(window_size), x[0, :, 5].detach().numpy(), label='Input')\n",
    "plt.plot(np.arange(window_size,window_size+steps), y[0].detach().numpy(),  label='Target')\n",
    "plt.plot(np.arange(window_size,window_size+steps), y_pred[0].detach().numpy(), label='Prediction')\n",
    "\n",
    "plt.legend()\n",
    "plt.show()\n"
   ]
  }
 ],
 "metadata": {
  "kernelspec": {
   "display_name": "Python 3",
   "language": "python",
   "name": "python3"
  },
  "language_info": {
   "codemirror_mode": {
    "name": "ipython",
    "version": 3
   },
   "file_extension": ".py",
   "mimetype": "text/x-python",
   "name": "python",
   "nbconvert_exporter": "python",
   "pygments_lexer": "ipython3",
   "version": "3.11.7"
  }
 },
 "nbformat": 4,
 "nbformat_minor": 2
}
